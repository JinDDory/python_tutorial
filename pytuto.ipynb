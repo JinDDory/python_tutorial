{
 "cells": [
  {
   "cell_type": "markdown",
   "metadata": {},
   "source": [
    "\n",
    "파이썬은 계산기다!"
   ]
  },
  {
   "cell_type": "code",
   "execution_count": 3,
   "metadata": {},
   "outputs": [
    {
     "name": "stdout",
     "output_type": "stream",
     "text": [
      "hello\n"
     ]
    }
   ],
   "source": [
    "print('hello')"
   ]
  },
  {
   "cell_type": "code",
   "execution_count": 4,
   "metadata": {},
   "outputs": [
    {
     "data": {
      "text/plain": [
       "2"
      ]
     },
     "execution_count": 4,
     "metadata": {},
     "output_type": "execute_result"
    }
   ],
   "source": [
    "1+1"
   ]
  },
  {
   "cell_type": "code",
   "execution_count": 5,
   "metadata": {},
   "outputs": [
    {
     "data": {
      "text/plain": [
       "-2"
      ]
     },
     "execution_count": 5,
     "metadata": {},
     "output_type": "execute_result"
    }
   ],
   "source": [
    "3-5"
   ]
  },
  {
   "cell_type": "code",
   "execution_count": 6,
   "metadata": {},
   "outputs": [
    {
     "data": {
      "text/plain": [
       "10"
      ]
     },
     "execution_count": 6,
     "metadata": {},
     "output_type": "execute_result"
    }
   ],
   "source": [
    "2*5"
   ]
  },
  {
   "cell_type": "code",
   "execution_count": 13,
   "metadata": {},
   "outputs": [
    {
     "data": {
      "text/plain": [
       "2"
      ]
     },
     "execution_count": 13,
     "metadata": {},
     "output_type": "execute_result"
    }
   ],
   "source": [
    "4//2 #2.0이면 \"두 번째\" 라는 걸 못 나타내기 때문에 이런게 필요함"
   ]
  },
  {
   "cell_type": "code",
   "execution_count": 14,
   "metadata": {},
   "outputs": [
    {
     "data": {
      "text/plain": [
       "int"
      ]
     },
     "execution_count": 14,
     "metadata": {},
     "output_type": "execute_result"
    }
   ],
   "source": [
    "type(2) #int는 integer의 줄임말"
   ]
  },
  {
   "cell_type": "code",
   "execution_count": 15,
   "metadata": {},
   "outputs": [
    {
     "data": {
      "text/plain": [
       "float"
      ]
     },
     "execution_count": 15,
     "metadata": {},
     "output_type": "execute_result"
    }
   ],
   "source": [
    "type(2.)"
   ]
  },
  {
   "cell_type": "code",
   "execution_count": 16,
   "metadata": {},
   "outputs": [
    {
     "data": {
      "text/plain": [
       "2"
      ]
     },
     "execution_count": 16,
     "metadata": {},
     "output_type": "execute_result"
    }
   ],
   "source": [
    "5//2 #얘는 사실 몫을 뱉어 주는 것"
   ]
  },
  {
   "cell_type": "code",
   "execution_count": 17,
   "metadata": {},
   "outputs": [
    {
     "data": {
      "text/plain": [
       "2"
      ]
     },
     "execution_count": 17,
     "metadata": {},
     "output_type": "execute_result"
    }
   ],
   "source": [
    "int(5/2) #반올림 아님. 소수점 아래 전부 삭제."
   ]
  },
  {
   "cell_type": "code",
   "execution_count": 18,
   "metadata": {},
   "outputs": [
    {
     "data": {
      "text/plain": [
       "1024"
      ]
     },
     "execution_count": 18,
     "metadata": {},
     "output_type": "execute_result"
    }
   ],
   "source": [
    "2**10 #2의 10승 열번 곱하지 말고 2^10 이렇게 하지 말고 2**10!!"
   ]
  },
  {
   "cell_type": "code",
   "execution_count": 20,
   "metadata": {},
   "outputs": [
    {
     "name": "stdout",
     "output_type": "stream",
     "text": [
      "3\n"
     ]
    }
   ],
   "source": [
    "print(0b011) #2진수를 10진수로 변경해줌, 0b는 2진수 \n",
    "print(0xA) #16진수를 10진수로 변경해줌, 0x는 16진수"
   ]
  },
  {
   "cell_type": "code",
   "execution_count": 25,
   "metadata": {},
   "outputs": [
    {
     "name": "stdout",
     "output_type": "stream",
     "text": [
      "10\n",
      "1\n",
      "Hello\n",
      "3\n",
      "4\n"
     ]
    }
   ],
   "source": [
    "a = 10 #a라는 이름의 변수에 10이라는 값을 \"집어 넣는다!\"\n",
    "print(a)\n",
    "a = 1\n",
    "print(a)\n",
    "a = \"Hello\"\n",
    "print(a)\n",
    "\n",
    "a = 3\n",
    "A = 4\n",
    "print(a); print(A) #한 줄에 쓰려면;로 구별\n",
    "\n",
    "del a #a 삭제\n",
    "print(a)"
   ]
  },
  {
   "cell_type": "markdown",
   "metadata": {},
   "source": [
    "## 진화된 계산기다\n"
   ]
  },
  {
   "cell_type": "code",
   "execution_count": 32,
   "metadata": {},
   "outputs": [
    {
     "name": "stderr",
     "output_type": "stream",
     "text": [
      "<>:2: SyntaxWarning: \"is not\" with a literal. Did you mean \"!=\"?\n",
      "<>:2: SyntaxWarning: \"is not\" with a literal. Did you mean \"!=\"?\n",
      "/var/folders/8j/2zb_yj0j0bnb3h9x873g6fcw0000gn/T/ipykernel_97866/513449240.py:2: SyntaxWarning: \"is not\" with a literal. Did you mean \"!=\"?\n",
      "  a is not 1\n"
     ]
    },
    {
     "data": {
      "text/plain": [
       "False"
      ]
     },
     "execution_count": 32,
     "metadata": {},
     "output_type": "execute_result"
    }
   ],
   "source": [
    "a=1\n",
    "a is 1\n",
    "a is not 1"
   ]
  },
  {
   "cell_type": "code",
   "execution_count": 40,
   "metadata": {},
   "outputs": [
    {
     "name": "stdout",
     "output_type": "stream",
     "text": [
      "True\n",
      "True\n",
      "True\n",
      "False\n",
      "<class 'bool'>\n"
     ]
    },
    {
     "data": {
      "text/plain": [
       "bool"
      ]
     },
     "execution_count": 40,
     "metadata": {},
     "output_type": "execute_result"
    }
   ],
   "source": [
    "\"Python\"==\"Python\"\n",
    "x = 3\n",
    "print(x>1 and x<5)\n",
    "print(x>1 or x<-1)\n",
    "print(bool(1))\n",
    "print(bool(0))\n",
    "print(type(x>1))\n",
    "type(False)"
   ]
  },
  {
   "cell_type": "markdown",
   "metadata": {},
   "source": [
    "## 여러 개를 한 변수에 넣을 순 없을까? 리스트!\n"
   ]
  },
  {
   "cell_type": "code",
   "execution_count": 43,
   "metadata": {},
   "outputs": [
    {
     "name": "stdout",
     "output_type": "stream",
     "text": [
      "[1, 2, 3]\n",
      "[1, 2, 3, 3, 4, 5]\n"
     ]
    }
   ],
   "source": [
    "a=[1,2,3] #list라고 함\n",
    "print(a)\n",
    "b=[3,4,5]\n",
    "print(a+b) #더하는 게 아니고 쌓는다' a=[4,\"a\",6] 뭐든 들어가기 때문에 +에 대해 쌓는 것으로 정의되어있다."
   ]
  },
  {
   "cell_type": "code",
   "execution_count": 48,
   "metadata": {},
   "outputs": [
    {
     "name": "stdout",
     "output_type": "stream",
     "text": [
      "[1, '하하', 3]\n"
     ]
    }
   ],
   "source": [
    "c=[]#빈 리스트\n",
    "c.append(1)\n",
    "c.append(\"하하\")\n",
    "c.append(3)\n",
    "print(c)"
   ]
  },
  {
   "cell_type": "code",
   "execution_count": 52,
   "metadata": {},
   "outputs": [
    {
     "name": "stdout",
     "output_type": "stream",
     "text": [
      "[1, 3, 12]\n"
     ]
    }
   ],
   "source": [
    "a=[]\n",
    "#a=a+1 #리스트와 integer는 형태가 다르기때문에 안된다.\n",
    "a += [1]\n",
    "a += [3]\n",
    "a += [12]\n",
    "print(a)"
   ]
  },
  {
   "cell_type": "code",
   "execution_count": 55,
   "metadata": {},
   "outputs": [
    {
     "name": "stdout",
     "output_type": "stream",
     "text": [
      "[1, 0.5, 2]\n"
     ]
    }
   ],
   "source": [
    "loss_history=[]\n",
    "loss=1\n",
    "loss_history += [loss]\n",
    "loss=0.5\n",
    "loss_history += [loss]\n",
    "loss=2\n",
    "loss_history += [loss]\n",
    "print(loss_history)"
   ]
  },
  {
   "cell_type": "markdown",
   "metadata": {},
   "source": [
    "## range는 반복문의 친구\n"
   ]
  },
  {
   "cell_type": "code",
   "execution_count": 59,
   "metadata": {},
   "outputs": [
    {
     "name": "stdout",
     "output_type": "stream",
     "text": [
      "[0, 1, 2, 3, 4, 5, 6, 7, 8, 9]\n",
      "[1, 2, 3, 4, 5, 6, 7, 8, 9, 10]\n",
      "[1, 3, 5, 7, 9]\n"
     ]
    }
   ],
   "source": [
    "range(10)\n",
    "a = list(range(10)) #range를 list로 바꿔줌\n",
    "print(a)\n",
    "b=list(range(1,11))# 1부터 시작 그리고 11미만까지\n",
    "print(b)\n",
    "c=list(range(1,11,2)) # 1부터 시작 11미만까지 2간격\n",
    "print(c)\n",
    "list(range(10,0,-1)) #10부터 시작 그리고 0초과까지"
   ]
  },
  {
   "cell_type": "markdown",
   "metadata": {},
   "source": [
    "## 튜플\n"
   ]
  },
  {
   "cell_type": "code",
   "execution_count": 61,
   "metadata": {},
   "outputs": [
    {
     "name": "stdout",
     "output_type": "stream",
     "text": [
      "<class 'tuple'>\n",
      "<class 'list'>\n",
      "(0, 1, 2, 3, 4, 5, 6, 7, 8, 9)\n"
     ]
    }
   ],
   "source": [
    "a=(1,\"ㅋ\",3)\n",
    "b=[1,2,3]\n",
    "print(type(a))\n",
    "print(type(b))\n",
    "b = tuple(range(10))\n",
    "print(b)"
   ]
  },
  {
   "cell_type": "code",
   "execution_count": 63,
   "metadata": {},
   "outputs": [
    {
     "name": "stdout",
     "output_type": "stream",
     "text": [
      "[0, 1, 2, 3, 4, 5, 6, 7, 8, 9]\n",
      "(0, 1, 2, 3, 4, 5, 6, 7, 8, 9)\n",
      "(0, 1, 2, 3, 4, 5, 6, 7, 8, 9)\n",
      "[0, 1, 2, 3, 4, 5, 6, 7, 8, 9]\n"
     ]
    }
   ],
   "source": [
    "a = list(range(10))\n",
    "b = tuple(range(10))\n",
    "c = tuple(a)\n",
    "d = list(b)\n",
    "print(a)\n",
    "print(b)\n",
    "print(c)#바뀐다\n",
    "print(d)#바뀐다"
   ]
  },
  {
   "cell_type": "markdown",
   "metadata": {},
   "source": [
    "## in은 있냐?를 물어봄"
   ]
  },
  {
   "cell_type": "code",
   "execution_count": 65,
   "metadata": {},
   "outputs": [
    {
     "name": "stdout",
     "output_type": "stream",
     "text": [
      "False\n",
      "False\n",
      "False\n",
      "False\n",
      "True\n",
      "True\n"
     ]
    }
   ],
   "source": [
    "a = list(range(10))\n",
    "b = tuple(range(10))\n",
    "c=range(10)\n",
    "print(11 in a)\n",
    "print(15 in a)\n",
    "print(1 not in b)\n",
    "print(15 in b)\n",
    "print(5 in c)\n",
    "s = \"Hello\"\n",
    "print(\"H\" in s)"
   ]
  },
  {
   "cell_type": "markdown",
   "metadata": {},
   "source": [
    "## 리스트의 기본 연산과 인덱싱\n"
   ]
  },
  {
   "cell_type": "code",
   "execution_count": 68,
   "metadata": {},
   "outputs": [
    {
     "name": "stdout",
     "output_type": "stream",
     "text": [
      "[1, 2, 3]\n",
      "[1, 2, 3, 1, 2, 3]\n",
      "[1, 2, 3, 1, 2, 3, 1, 2, 3]\n",
      "[1, 2, 3, 1, 2, 3, 1, 2, 3]\n"
     ]
    }
   ],
   "source": [
    "a = [1,2,3]\n",
    "b = a+a\n",
    "c = a*3\n",
    "d = a*int(12/4)\n",
    "print(a)\n",
    "print(b)\n",
    "print(c)\n",
    "print(d)"
   ]
  },
  {
   "cell_type": "code",
   "execution_count": 69,
   "metadata": {},
   "outputs": [
    {
     "name": "stdout",
     "output_type": "stream",
     "text": [
      "3\n"
     ]
    }
   ],
   "source": [
    "a=[1,2,3]\n",
    "print(len(a)) #len은 length다."
   ]
  },
  {
   "cell_type": "code",
   "execution_count": 72,
   "metadata": {},
   "outputs": [
    {
     "name": "stdout",
     "output_type": "stream",
     "text": [
      "5\n",
      "['Hello']\n",
      "1\n"
     ]
    }
   ],
   "source": [
    "s=\"Hello\"\n",
    "s2=[\"Hello\"]\n",
    "print(len(s))\n",
    "print(s2)\n",
    "print(len(s2))"
   ]
  },
  {
   "cell_type": "code",
   "execution_count": 74,
   "metadata": {},
   "outputs": [
    {
     "name": "stdout",
     "output_type": "stream",
     "text": [
      "1\n",
      "1 2 3\n",
      "3\n",
      "3 2 1\n"
     ]
    }
   ],
   "source": [
    "a=[1,2,3]\n",
    "print(a[0]) # a[i]: i번째의 값을 가리킴. 이런 것을 인덱싱이라 함.\n",
    "print(a[0],a[1],a[2])\n",
    "print(a[-1]) #-1은 마지막 것을 가리킨다.\n",
    "print(a[-1],a[-2],a[-3])\n"
   ]
  },
  {
   "cell_type": "code",
   "execution_count": 75,
   "metadata": {},
   "outputs": [
    {
     "name": "stdout",
     "output_type": "stream",
     "text": [
      "0 2 4\n"
     ]
    }
   ],
   "source": [
    "r = range(0,10,2) #range로 인덱싱 됨\n",
    "print(r[0],r[1],r[2])"
   ]
  },
  {
   "cell_type": "code",
   "execution_count": 76,
   "metadata": {},
   "outputs": [
    {
     "name": "stdout",
     "output_type": "stream",
     "text": [
      "[3, 2, 3]\n"
     ]
    }
   ],
   "source": [
    "a=[1,2,3]\n",
    "a[0]=3\n",
    "print(a)"
   ]
  },
  {
   "cell_type": "code",
   "execution_count": 77,
   "metadata": {},
   "outputs": [
    {
     "name": "stdout",
     "output_type": "stream",
     "text": [
      "[1, 3]\n"
     ]
    }
   ],
   "source": [
    "a=[1,2,3]\n",
    "del a[1]\n",
    "print(a)"
   ]
  },
  {
   "cell_type": "markdown",
   "metadata": {},
   "source": [
    "## 굉장히 많이 쓰이는 슬라이스!\n"
   ]
  },
  {
   "cell_type": "code",
   "execution_count": 83,
   "metadata": {},
   "outputs": [
    {
     "name": "stdout",
     "output_type": "stream",
     "text": [
      "[1, 2, 3]\n",
      "[2, 3]\n",
      "[4, 5, 6, 7, 8, 9]\n",
      "[2, 4, 6]\n",
      "[1, 2, 3, 4, 5]\n",
      "[6, 7, 8, 9, 10]\n",
      "[1, 2, 3, 4, 5, 6, 7, 8, 9, 10]\n",
      "[1, 3, 5, 7]\n",
      "[8, 10]\n",
      "[1, 3, 5, 7, 9]\n",
      "[1, 4, 5, 6, 7, 8, 9, 10]\n"
     ]
    }
   ],
   "source": [
    "a=[1,2,3,4,5,6,7,8,9,10]\n",
    "b = a[0:3] #0부터 3미만번째\n",
    "print(b)\n",
    "print(a[1:3])\n",
    "print(a[3:-1])\n",
    "print(a[1:7:2])\n",
    "print(a[:5])\n",
    "print(a[5:]) # 두 번째 자리를 비우면 마지막까지(마지막도 포함)\n",
    "print(a[:]) # 처음부터 끝까지\n",
    "print(a[:7:2])\n",
    "print(a[7::2])\n",
    "print(a[::2])\n",
    "del a[1:3]\n",
    "print(a)"
   ]
  },
  {
   "cell_type": "markdown",
   "metadata": {},
   "source": [
    "## 딕셔너리"
   ]
  },
  {
   "cell_type": "code",
   "execution_count": 92,
   "metadata": {},
   "outputs": [
    {
     "name": "stdout",
     "output_type": "stream",
     "text": [
      "{'a': 1, 'b': 2, 'c': 3, 100: 'jk'}\n",
      "1\n",
      "4\n",
      "dict_keys(['a', 'b', 'c', 100])\n",
      "dict_values([1, 2, 3, 'jk'])\n",
      "dict_items([('a', 1), ('b', 2), ('c', 3), (100, 'jk')])\n"
     ]
    },
    {
     "data": {
      "text/plain": [
       "{'a': 1, 'b': 2, 'c': 3}"
      ]
     },
     "execution_count": 92,
     "metadata": {},
     "output_type": "execute_result"
    }
   ],
   "source": [
    "dic1 = {\"a\":1, \"b\":2, \"c\":3, 100:\"jk\"} #중괄호다. 콜론(:)이 들어간다.\n",
    "#키:값 이고 숫자 문자 뭐든 키, 값이 될 수 있다.\n",
    "#키에는 수정할 수 없는 튜플은 되고 리스트는 안됨\n",
    "#값에는 튜플도 되고 리스트도 됨\n",
    "print(dic1)\n",
    "print(dic1[\"a\"])\n",
    "print(len(dic1))\n",
    "print(dic1.keys())\n",
    "print(dic1.values())\n",
    "print(dic1.items())\n",
    "dict(zip([\"a\",\"b\",\"c\"],[1,2,3]))"
   ]
  },
  {
   "cell_type": "code",
   "execution_count": 96,
   "metadata": {},
   "outputs": [
    {
     "name": "stdout",
     "output_type": "stream",
     "text": [
      "{'a': 3, 'b': 2}\n",
      "{'a': 3, 'b': 2, 'e': '새로운 키'}\n"
     ]
    }
   ],
   "source": [
    "dic1 = {\"a\":1,\"b\":2}\n",
    "dic1[\"a\"] = 3\n",
    "print(dic1)\n",
    "dic1[\"e\"] =\"새로운 키\"\n",
    "print(dic1)\n",
    "print(\"a\" in dic1) # \"a\"라는 키가 있느냐"
   ]
  },
  {
   "cell_type": "markdown",
   "metadata": {},
   "source": [
    "## 조건문\n"
   ]
  },
  {
   "cell_type": "code",
   "execution_count": 101,
   "metadata": {},
   "outputs": [
    {
     "name": "stdout",
     "output_type": "stream",
     "text": [
      "True\n",
      "True\n",
      "False\n",
      "3보다 큽니다\n",
      "10보다 큼\n",
      "15임\n",
      "여기 들어온다\n",
      "이번엔 여 들어와야\n"
     ]
    }
   ],
   "source": [
    "a=5\n",
    "print(a>3)\n",
    "print(a>3)\n",
    "print(a==3)\n",
    "\n",
    "if a>3:\n",
    "    print(\"3보다 큽니다\")\n",
    "\n",
    "if a<3:\n",
    "    print(\"3보다 작습니다\")\n",
    "\n",
    "x = 15\n",
    "if x > 10:\n",
    "    print(\"10보다 큼\")\n",
    "    if x==15:\n",
    "        print(\"15임\")\n",
    "    if x==20:\n",
    "        print(\"20임\")\n",
    "\n",
    "if True:\n",
    "    print (\"여기 들어온다\")\n",
    "else:\n",
    "    print (\"여기 안들어와야\")\n",
    "\n",
    "if False:\n",
    "    print (\"여 안들어와야\")\n",
    "else:\n",
    "    print(\"이번엔 여 들어와야\")"
   ]
  },
  {
   "cell_type": "code",
   "execution_count": 102,
   "metadata": {},
   "outputs": [
    {
     "name": "stdout",
     "output_type": "stream",
     "text": [
      "둘다 맞아야만 들어옴\n",
      "부등호 연달아 써도 됨\n",
      "둘다 맞아야만 들어옴\n"
     ]
    }
   ],
   "source": [
    "a=1\n",
    "b=2\n",
    "\n",
    "if a>0 and b>0:\n",
    "    print(\"둘다 맞아야만 들어옴\")\n",
    "else:\n",
    "    print(\"둘다 아니면 여기로\")\n",
    "\n",
    "if 0 < a <10:\n",
    "    print(\"부등호 연달아 써도 됨\")\n",
    "\n",
    "if a>0 or b>0:\n",
    "    print(\"둘다 맞아야만 들어옴\")\n",
    "else:\n",
    "    print(\"둘다 아니면 여기로\")"
   ]
  },
  {
   "cell_type": "code",
   "execution_count": 106,
   "metadata": {},
   "outputs": [
    {
     "name": "stdout",
     "output_type": "stream",
     "text": [
      "10보다 작은가?\n"
     ]
    }
   ],
   "source": [
    "x=5\n",
    "if x < 10:\n",
    "    print(\"10보다 작은가?\")\n",
    "elif x < 100:\n",
    "    print(\"아니면 100보다 작은가?\")\n",
    "else: # 무조건 마지막에\n",
    "    print(\"둘다 아닌가?\")\n"
   ]
  },
  {
   "cell_type": "markdown",
   "metadata": {},
   "source": [
    "## 반복문"
   ]
  },
  {
   "cell_type": "code",
   "execution_count": null,
   "metadata": {},
   "outputs": [],
   "source": [
    "for i in range(5): # range(5) <- 0,1,2,3,4로부터 i라는 이름으로 하나씩 꺼내서 그 i에 대해 아래를 실행해라.\n",
    "    print(i)\n",
    "for i in range(5,12):\n",
    "    print(i)    \n",
    "for i in range(5,12,2):\n",
    "    print(i)\n"
   ]
  },
  {
   "cell_type": "code",
   "execution_count": 113,
   "metadata": {},
   "outputs": [
    {
     "name": "stdout",
     "output_type": "stream",
     "text": [
      "4\n",
      "3\n",
      "2\n",
      "1\n",
      "0\n"
     ]
    }
   ],
   "source": [
    "for i in reversed(range(5)):\n",
    "    print(i)"
   ]
  },
  {
   "cell_type": "code",
   "execution_count": 117,
   "metadata": {},
   "outputs": [
    {
     "name": "stdout",
     "output_type": "stream",
     "text": [
      "10\n",
      "20\n",
      "30\n",
      "40\n",
      "50\n",
      "acb"
     ]
    }
   ],
   "source": [
    "a = [10,20,30,40,50]\n",
    "for i in a:\n",
    "    print(i)\n",
    "\n",
    "b = [\"a\",\"c\",\"b\"]\n",
    "for i in b:\n",
    "    print(i,end=\"\")"
   ]
  },
  {
   "cell_type": "code",
   "execution_count": 120,
   "metadata": {},
   "outputs": [
    {
     "name": "stdout",
     "output_type": "stream",
     "text": [
      "0 0\n",
      "0 1\n",
      "1 0\n",
      "1 1\n"
     ]
    }
   ],
   "source": [
    "for i in range(2):\n",
    "    for j in range(2):\n",
    "        print(i,j)"
   ]
  },
  {
   "cell_type": "code",
   "execution_count": 123,
   "metadata": {},
   "outputs": [
    {
     "name": "stdout",
     "output_type": "stream",
     "text": [
      "0\n",
      "1\n",
      "2\n",
      "3\n",
      "4\n",
      "\n",
      "5\n"
     ]
    }
   ],
   "source": [
    "i=0\n",
    "while i<5: #i가 5보다 작은 \"동안에\" 반복적으로 실행\n",
    "    print(i)\n",
    "    i += 1\n",
    "print()\n",
    "print(i)"
   ]
  },
  {
   "cell_type": "code",
   "execution_count": 127,
   "metadata": {},
   "outputs": [
    {
     "name": "stdout",
     "output_type": "stream",
     "text": [
      "0\n",
      "1\n",
      "2\n",
      "3\n",
      "4\n"
     ]
    }
   ],
   "source": [
    "i=0\n",
    "while True:\n",
    "    print(i)\n",
    "    i += 1\n",
    "    if i == 5:\n",
    "        break"
   ]
  },
  {
   "cell_type": "code",
   "execution_count": 133,
   "metadata": {},
   "outputs": [
    {
     "name": "stdout",
     "output_type": "stream",
     "text": [
      "0\n",
      "1\n",
      "2\n",
      "3\n",
      "4\n",
      "5\n"
     ]
    }
   ],
   "source": [
    "for i in range(1000):\n",
    "    print(i)\n",
    "    if i==5:\n",
    "        break"
   ]
  },
  {
   "cell_type": "code",
   "execution_count": 134,
   "metadata": {},
   "outputs": [
    {
     "name": "stdout",
     "output_type": "stream",
     "text": [
      "0\n",
      "2\n",
      "4\n",
      "6\n",
      "8\n"
     ]
    }
   ],
   "source": [
    "for i in range(10):\n",
    "    if i % 2:\n",
    "        continue # 건너뛰어라 continue를 만나면 그 밑으로는 안하고 하던 반복 마저 돌아감\n",
    "    print(i)"
   ]
  },
  {
   "cell_type": "code",
   "execution_count": 136,
   "metadata": {},
   "outputs": [
    {
     "name": "stdout",
     "output_type": "stream",
     "text": [
      "2\n",
      "4\n",
      "6\n",
      "8\n",
      "10\n"
     ]
    }
   ],
   "source": [
    "i=0\n",
    "while i<10:\n",
    "    i+=1\n",
    "    if i%2:\n",
    "        continue\n",
    "    print(i)"
   ]
  },
  {
   "cell_type": "markdown",
   "metadata": {},
   "source": [
    "## for문과 함께 자주 쓰이는 enumerate"
   ]
  },
  {
   "cell_type": "code",
   "execution_count": 137,
   "metadata": {},
   "outputs": [
    {
     "name": "stdout",
     "output_type": "stream",
     "text": [
      "1 번재에 1 가 들어있어요\n",
      "2 번재에 2 가 들어있어요\n",
      "3 번재에 3 가 들어있어요\n",
      "4 번재에 4 가 들어있어요\n",
      "5 번재에 5 가 들어있어요\n"
     ]
    }
   ],
   "source": [
    "a = [1,2,3,4,5]\n",
    "j=1\n",
    "for i in a:\n",
    "    print(j, \"번째에\", i, \"가 들어있어요\")\n",
    "    j+=1"
   ]
  },
  {
   "cell_type": "code",
   "execution_count": 138,
   "metadata": {},
   "outputs": [
    {
     "name": "stdout",
     "output_type": "stream",
     "text": [
      "1 번째에 1 가 들어있어요\n",
      "2 번째에 2 가 들어있어요\n",
      "3 번째에 3 가 들어있어요\n",
      "4 번째에 4 가 들어있어요\n",
      "5 번째에 5 가 들어있어요\n"
     ]
    }
   ],
   "source": [
    "a = [1,2,3,4,5]\n",
    "for i, val in enumerate(a,start=1):\n",
    "    print(i,\"번째에\", val,\"가 들어있어요\")"
   ]
  },
  {
   "cell_type": "markdown",
   "metadata": {},
   "source": [
    "## 리스트 심화"
   ]
  },
  {
   "cell_type": "code",
   "execution_count": 139,
   "metadata": {},
   "outputs": [
    {
     "name": "stdout",
     "output_type": "stream",
     "text": [
      "[1, 2, 3, 4, 5, 4] len(a)= 6\n"
     ]
    }
   ],
   "source": [
    "a=[1,2,3,4,5]\n",
    "a.append(4)\n",
    "print(a, \"len(a)=\",len(a))"
   ]
  },
  {
   "cell_type": "code",
   "execution_count": 140,
   "metadata": {},
   "outputs": [
    {
     "name": "stdout",
     "output_type": "stream",
     "text": [
      "[1, 2, 3, 4, 5] len(a)= 5\n"
     ]
    }
   ],
   "source": [
    "a = [1,2,3]\n",
    "a.extend([4,5])\n",
    "print(a, \"len(a)=\",len(a))"
   ]
  },
  {
   "cell_type": "code",
   "execution_count": 141,
   "metadata": {},
   "outputs": [
    {
     "name": "stdout",
     "output_type": "stream",
     "text": [
      "[1, 100, 2, 3]\n"
     ]
    }
   ],
   "source": [
    "a=[1,2,3]\n",
    "a.insert(1,100) #index, 넣을거\n",
    "print(a)"
   ]
  },
  {
   "cell_type": "code",
   "execution_count": 142,
   "metadata": {},
   "outputs": [
    {
     "name": "stdout",
     "output_type": "stream",
     "text": [
      "[1, [100, 200], 2, 3]\n"
     ]
    }
   ],
   "source": [
    "a=[1,2,3]\n",
    "a.insert(1,[100,200]) #index, 넣을거\n",
    "print(a)"
   ]
  },
  {
   "cell_type": "code",
   "execution_count": 145,
   "metadata": {},
   "outputs": [
    {
     "name": "stdout",
     "output_type": "stream",
     "text": [
      "[1]\n"
     ]
    },
    {
     "data": {
      "text/plain": [
       "[3, 4, 5, 6, 7]"
      ]
     },
     "execution_count": 145,
     "metadata": {},
     "output_type": "execute_result"
    }
   ],
   "source": [
    "a=[1,2,3]\n",
    "a.pop()\n",
    "a.pop()\n",
    "print(a)\n",
    "a.append([3,4,5,6,7])\n",
    "a.pop(1)"
   ]
  },
  {
   "cell_type": "code",
   "execution_count": 1,
   "metadata": {},
   "outputs": [
    {
     "name": "stdout",
     "output_type": "stream",
     "text": [
      "[1, 2, 4, 5, 6, 3, 4, 3]\n"
     ]
    }
   ],
   "source": [
    "a=[1,2,3,4,5,6,3,4,3]\n",
    "a.remove(3) # 중복되어 있으면 왼쪽부터 없앰.\n",
    "print(a)\n",
    "a.remove(3) # 중복되어 있으면 왼쪽부터 없앰.\n",
    "a.remove(3) # 중복되어 있으면 왼쪽부터 없앰.\n"
   ]
  },
  {
   "cell_type": "code",
   "execution_count": 5,
   "metadata": {},
   "outputs": [
    {
     "data": {
      "text/plain": [
       "2"
      ]
     },
     "execution_count": 5,
     "metadata": {},
     "output_type": "execute_result"
    }
   ],
   "source": [
    "a=[1,2,3,4,5,6,3,4,3]\n",
    "a.index(3)"
   ]
  },
  {
   "cell_type": "code",
   "execution_count": 7,
   "metadata": {},
   "outputs": [
    {
     "data": {
      "text/plain": [
       "4"
      ]
     },
     "execution_count": 7,
     "metadata": {},
     "output_type": "execute_result"
    }
   ],
   "source": [
    "a=[1,2,3,2,2,2,5,7]\n",
    "a.count(2)"
   ]
  },
  {
   "cell_type": "code",
   "execution_count": 8,
   "metadata": {},
   "outputs": [
    {
     "name": "stdout",
     "output_type": "stream",
     "text": [
      "[7, 5, 2, 2, 2, 3, 2, 1]\n"
     ]
    }
   ],
   "source": [
    "a=[1,2,3,2,2,2,5,7]\n",
    "a.reverse()\n",
    "print(a)"
   ]
  },
  {
   "cell_type": "code",
   "execution_count": 11,
   "metadata": {},
   "outputs": [
    {
     "name": "stdout",
     "output_type": "stream",
     "text": [
      "[1, 2, 2, 2, 2, 3, 5, 7]\n",
      "[7, 5, 3, 2, 2, 2, 2, 1]\n"
     ]
    }
   ],
   "source": [
    "a=[1,2,3,2,2,2,5,7]\n",
    "a.sort()\n",
    "print(a)\n",
    "a.sort(reverse=True)\n",
    "print(a)"
   ]
  },
  {
   "cell_type": "code",
   "execution_count": 12,
   "metadata": {},
   "outputs": [
    {
     "name": "stdout",
     "output_type": "stream",
     "text": [
      "[]\n"
     ]
    }
   ],
   "source": [
    "a=[1,2,3,2,2,2,5,7]\n",
    "a.clear()\n",
    "print(a)"
   ]
  },
  {
   "cell_type": "code",
   "execution_count": 19,
   "metadata": {},
   "outputs": [
    {
     "name": "stdout",
     "output_type": "stream",
     "text": [
      "[1, 10, 3, 2, 2, 2, 5, 7]\n",
      "[1, 10, 3, 2, 2, 2, 5, 7]\n"
     ]
    },
    {
     "data": {
      "text/plain": [
       "False"
      ]
     },
     "execution_count": 19,
     "metadata": {},
     "output_type": "execute_result"
    }
   ],
   "source": [
    "a=[1,2,3,2,2,2,5,7]\n",
    "b=a\n",
    "b[1]=10\n",
    "print(a)\n",
    "b=a.copy()\n",
    "b[1]=100\n",
    "print(a)\n",
    "a is b"
   ]
  },
  {
   "cell_type": "code",
   "execution_count": 20,
   "metadata": {},
   "outputs": [
    {
     "name": "stdout",
     "output_type": "stream",
     "text": [
      "1\n",
      "3\n",
      "6\n",
      "1.516\n"
     ]
    }
   ],
   "source": [
    "a=[1,2,3]\n",
    "print(min(a))\n",
    "print(max(a))\n",
    "print(sum(a))\n",
    "print(round(1.51566357,3))"
   ]
  },
  {
   "cell_type": "markdown",
   "metadata": {},
   "source": [
    "# 리스트 표현식\n"
   ]
  },
  {
   "cell_type": "code",
   "execution_count": 21,
   "metadata": {},
   "outputs": [
    {
     "name": "stdout",
     "output_type": "stream",
     "text": [
      "[0, 1, 2, 3, 4]\n"
     ]
    }
   ],
   "source": [
    "a = [i for i in range(5)] # range(5) 안의 각각의 값들을 i라는 이름으로 각각 불러오고 i 값으로 리스트를 형성\n",
    "print(a)"
   ]
  },
  {
   "cell_type": "code",
   "execution_count": 25,
   "metadata": {},
   "outputs": [
    {
     "name": "stdout",
     "output_type": "stream",
     "text": [
      "[5, 6, 7, 8, 9]\n"
     ]
    }
   ],
   "source": [
    "a = [i+5 for i in range(5)] # range(5) 안의 각각의 값들을 i라는 이름으로 각각 불러오고 i+5값으로 리스트를 형성\n",
    "print(a)"
   ]
  },
  {
   "cell_type": "code",
   "execution_count": 26,
   "metadata": {},
   "outputs": [
    {
     "name": "stdout",
     "output_type": "stream",
     "text": [
      "[0, 5, 10, 15, 20]\n"
     ]
    }
   ],
   "source": [
    "a = [i*5 for i in range(5)] # range(5) 안의 각각의 값들을 i라는 이름으로 각각 불러오고 i+5값으로 리스트를 형성\n",
    "print(a)"
   ]
  },
  {
   "cell_type": "code",
   "execution_count": 28,
   "metadata": {},
   "outputs": [
    {
     "name": "stdout",
     "output_type": "stream",
     "text": [
      "[0, 1, 4, 9, 16]\n"
     ]
    }
   ],
   "source": [
    "a = [i**2 for i in range(5)] # range(5) 안의 각각의 값들을 i라는 이름으로 각각 불러오고 i+5값으로 리스트를 형성\n",
    "print(a)"
   ]
  },
  {
   "cell_type": "code",
   "execution_count": 33,
   "metadata": {},
   "outputs": [
    {
     "name": "stdout",
     "output_type": "stream",
     "text": [
      "[0, -1, -2, -3, 1, 0, -1, -2, 2, 1, 0, -1, 3, 2, 1, 0]\n",
      "[0, -1, -2, -3, 1, 0, -1, -2, 2, 1, 0, -1, 3, 2, 1, 0]\n"
     ]
    }
   ],
   "source": [
    "a = [i-j for i in range(1,5) for j in range(1,5)] # 앞에서 부터 읽어라.\n",
    "print(a)    \n",
    "b = []\n",
    "for i in range(1,5):\n",
    "    for j in range(1,5):\n",
    "        b += [i-j]\n",
    "print(b)"
   ]
  },
  {
   "cell_type": "code",
   "execution_count": 34,
   "metadata": {},
   "outputs": [
    {
     "name": "stdout",
     "output_type": "stream",
     "text": [
      "[0, 2, 4, 6, 8]\n"
     ]
    }
   ],
   "source": [
    "a=[i for i in range(10) if i%2==0] # range(10) 안의 각각의 값들을 i라는 이름으로 각각 불러오고 i 마다 조건문을 보고 True일 때만 i 값으로 리스트를 형성\n",
    "print(a)"
   ]
  },
  {
   "cell_type": "markdown",
   "metadata": {},
   "source": [
    "# 리스트 속에 리스트"
   ]
  },
  {
   "cell_type": "code",
   "execution_count": 37,
   "metadata": {},
   "outputs": [
    {
     "name": "stdout",
     "output_type": "stream",
     "text": [
      "[[1, 2, 3], [4, 6]] len(a) = 2\n"
     ]
    }
   ],
   "source": [
    "a = [[1,2,3],[4,6]] # a=[\"하나\",\"둘\"]처럼 두 개의 무언가가 리스트로 적혀있는 것으로 생각해라. 즉, 리스트 안에 리스트로 [첫 번째 리스트, 두 번째 리스트]인 것이다.\n",
    "print(a,\"len(a) =\",len(a))"
   ]
  },
  {
   "cell_type": "code",
   "execution_count": 42,
   "metadata": {},
   "outputs": [
    {
     "name": "stdout",
     "output_type": "stream",
     "text": [
      "[1, 2, 3]\n",
      "[4, 6]\n",
      "1 2 3 4 6\n"
     ]
    }
   ],
   "source": [
    "a = [[1,2,3],[4,6]]\n",
    "print(a[0])\n",
    "print(a[1])\n",
    "print(a[0][0],a[0][1],a[0][2],\n",
    "    a[1][0],a[1][1])"
   ]
  },
  {
   "cell_type": "code",
   "execution_count": 50,
   "metadata": {},
   "outputs": [
    {
     "name": "stdout",
     "output_type": "stream",
     "text": [
      "[1, 2, 3]\n",
      "[4, 6, 7]\n",
      "\n",
      "1 2 3\n",
      "4 6 7\n",
      "\n",
      "1 2 3 \n",
      "4 6 7 \n",
      "\n"
     ]
    }
   ],
   "source": [
    "a = [[1,2,3],[4,6,7]]\n",
    "\n",
    "for i in a:\n",
    "    print(i)\n",
    "print()\n",
    "\n",
    "for x, y, z in a:\n",
    "    print(x,y,z)\n",
    "print()\n",
    "\n",
    "for i in a:\n",
    "    for j in i:\n",
    "        print(j, end=\" \")\n",
    "    print()\n",
    "print()"
   ]
  },
  {
   "cell_type": "code",
   "execution_count": 59,
   "metadata": {},
   "outputs": [
    {
     "name": "stdout",
     "output_type": "stream",
     "text": [
      "[[0, 0], [0, 0], [0, 0]]\n",
      "[[0, 0], [0, 0], [0, 0]]\n",
      "[[0, 0], [0, 0], [0, 0]]\n"
     ]
    }
   ],
   "source": [
    "a=[]\n",
    "for i in range(3):\n",
    "    line = []\n",
    "    for i in range(2):\n",
    "        line+=[0]\n",
    "    a += [line]\n",
    "print(a)\n",
    "\n",
    "a = [[0 for _ in range(2)]for _ in range(3)] # i,j을 사용하지않을 때 _(언더바)를 사용하여 메모리안쓸 수 있음\n",
    "print(a)\n",
    "#짧게 만들어보자\n",
    "a = [[0]*2]*3\n",
    "print(a)"
   ]
  },
  {
   "cell_type": "code",
   "execution_count": 61,
   "metadata": {},
   "outputs": [
    {
     "name": "stdout",
     "output_type": "stream",
     "text": [
      "[[0], [0, 0], [0, 0, 0], [0, 0, 0, 0]]\n"
     ]
    }
   ],
   "source": [
    "a=[1,2,3,4]\n",
    "b=[[0]*i for i in a]\n",
    "print(b)"
   ]
  },
  {
   "cell_type": "code",
   "execution_count": 62,
   "metadata": {},
   "outputs": [
    {
     "name": "stdout",
     "output_type": "stream",
     "text": [
      "[[100, 2], [3, 4]] [[100, 2], [3, 4]]\n"
     ]
    }
   ],
   "source": [
    "a=[[1,2],[3,4]]\n",
    "b=a.copy() #2차원 배열은 deepcopy를 해줘야함\n",
    "b[0][0] = 100\n",
    "print(a,b)"
   ]
  },
  {
   "cell_type": "code",
   "execution_count": 67,
   "metadata": {},
   "outputs": [
    {
     "name": "stdout",
     "output_type": "stream",
     "text": [
      "[[1, 2], [3, 4]] [[100, 2], [3, 4]]\n"
     ]
    }
   ],
   "source": [
    "import copy\n",
    "a=[[1,2],[3,4]]\n",
    "b=copy.deepcopy(a)\n",
    "b[0][0] = 100\n",
    "print(a,b)"
   ]
  },
  {
   "cell_type": "markdown",
   "metadata": {},
   "source": [
    "# print 응용\n"
   ]
  },
  {
   "cell_type": "code",
   "execution_count": 68,
   "metadata": {},
   "outputs": [
    {
     "name": "stdout",
     "output_type": "stream",
     "text": [
      "a = 1 b = 2 c = ㅋㅋ\n"
     ]
    }
   ],
   "source": [
    "a=1\n",
    "b=2\n",
    "c=\"ㅋㅋ\"\n",
    "\n",
    "print(\"a =\", a, \"b =\", b, \"c =\", c)"
   ]
  },
  {
   "cell_type": "code",
   "execution_count": 69,
   "metadata": {},
   "outputs": [
    {
     "name": "stdout",
     "output_type": "stream",
     "text": [
      "a = 1, b = 2, c = ㅋㅋ\n"
     ]
    }
   ],
   "source": [
    "a=1\n",
    "b=2\n",
    "c=\"ㅋㅋ\"\n",
    "\n",
    "print(\"a = {}, b = {}, c = {}\".format(a,b,c))"
   ]
  },
  {
   "cell_type": "code",
   "execution_count": 70,
   "metadata": {},
   "outputs": [
    {
     "name": "stdout",
     "output_type": "stream",
     "text": [
      "a = 1, b = ㅋㅋ, c = 2\n"
     ]
    }
   ],
   "source": [
    "a=1\n",
    "b=2\n",
    "c=\"ㅋㅋ\"\n",
    "\n",
    "print(\"a = {0}, b = {2}, c = {1}\".format(a,b,c))"
   ]
  },
  {
   "cell_type": "code",
   "execution_count": 71,
   "metadata": {},
   "outputs": [
    {
     "name": "stdout",
     "output_type": "stream",
     "text": [
      "a = 1, b = 2, c = ㅋㅋ\n"
     ]
    }
   ],
   "source": [
    "a=1\n",
    "b=2\n",
    "c=\"ㅋㅋ\"\n",
    "\n",
    "print(\"a = {num1}, b = {num2}, c = {str1}\".format(str1=c,num1=a,num2=b))"
   ]
  },
  {
   "cell_type": "code",
   "execution_count": 72,
   "metadata": {},
   "outputs": [
    {
     "name": "stdout",
     "output_type": "stream",
     "text": [
      "a = 1, b = 2, c = ㅋㅋ\n"
     ]
    }
   ],
   "source": [
    "a=1\n",
    "b=2\n",
    "c=\"ㅋㅋ\"\n",
    "\n",
    "print(f\"a = {a}, b = {b}, c = {c}\")\n",
    "# print(\"a =\", a, \",b =\", b, \",c =\", c) # 와 비교"
   ]
  },
  {
   "cell_type": "markdown",
   "metadata": {},
   "source": [
    "# 파일 입출력\n"
   ]
  },
  {
   "cell_type": "code",
   "execution_count": 85,
   "metadata": {},
   "outputs": [],
   "source": [
    "import os\n",
    "folder_name=\"saved\"\n",
    "if not os.path.exists(folder_name):\n",
    "    os.makedirs(folder_name)\n",
    "\n",
    "with open(\"/Users/jinkwon/Desktop/IMR LAB/python/python-tuto/saved/Hello.txt\",\"w\") as f:\n",
    "    f.write(\"Hello world\\n\")\n",
    "    f.write(\"Hello world\")\n",
    "    f.write(\"Hello world\")\n",
    "    f.write(\"Hello world!!!\")"
   ]
  },
  {
   "cell_type": "code",
   "execution_count": 81,
   "metadata": {},
   "outputs": [
    {
     "name": "stdout",
     "output_type": "stream",
     "text": [
      "Hello world\n"
     ]
    },
    {
     "data": {
      "text/plain": [
       "str"
      ]
     },
     "execution_count": 81,
     "metadata": {},
     "output_type": "execute_result"
    }
   ],
   "source": [
    "with open(\"saved/Hello.txt\",\"r\") as f:\n",
    "    s=f.read()\n",
    "print(s)\n",
    "type(s)"
   ]
  },
  {
   "cell_type": "code",
   "execution_count": 87,
   "metadata": {},
   "outputs": [
    {
     "name": "stdout",
     "output_type": "stream",
     "text": [
      "['Hello world\\n', 'Hello worldHello worldHello world!!!']\n",
      "Hello world\n",
      "\n",
      "Hello worldHello worldHello world!!!\n",
      "\n"
     ]
    }
   ],
   "source": [
    "with open(\"saved/Hello.txt\",\"r\") as f:\n",
    "    s=f.readlines()\n",
    "    print(s) # 한줄씩 list에 넣는다\n",
    "len(s)\n",
    "with open(\"saved/Hello.txt\",\"r\") as f:\n",
    "    for i in range(3):\n",
    "        s=f.readline() # for랑 같이 써서 한줄씩 읽을 수도\n",
    "        print(s)"
   ]
  },
  {
   "cell_type": "code",
   "execution_count": 88,
   "metadata": {},
   "outputs": [
    {
     "name": "stdout",
     "output_type": "stream",
     "text": [
      "Hello world\n",
      "Hello worldHello worldHello world!!!"
     ]
    }
   ],
   "source": [
    "with open(\"saved/Hello.txt\",\"r\") as f:\n",
    "    line=None # None으로 해야 공백(\"\")과 구별이 돼서 while이 돈다.\n",
    "    while line != \"\":\n",
    "        line = f.readline()\n",
    "        print(line, end=\"\")"
   ]
  },
  {
   "cell_type": "markdown",
   "metadata": {},
   "source": [
    "# 코딩의 꽃! 함수"
   ]
  },
  {
   "cell_type": "code",
   "execution_count": 90,
   "metadata": {},
   "outputs": [
    {
     "data": {
      "text/plain": [
       "4"
      ]
     },
     "execution_count": 90,
     "metadata": {},
     "output_type": "execute_result"
    }
   ],
   "source": [
    "def f(x): # x 라는 이름으로 변수를 입력 받아 x**2 을 출력하는 f라는 이름의 함수를 정의해라 (define)\n",
    "    return x**2\n",
    "\n",
    "f(-2) # function call. print라는 함수를 여태 부른 것이다"
   ]
  },
  {
   "cell_type": "code",
   "execution_count": 91,
   "metadata": {},
   "outputs": [
    {
     "name": "stdout",
     "output_type": "stream",
     "text": [
      "Hello World!\n",
      "Hello World!\n",
      "Hello World!\n"
     ]
    }
   ],
   "source": [
    "def say():\n",
    "    print(\"Hello World!\")\n",
    "say()\n",
    "say()\n",
    "say()"
   ]
  },
  {
   "cell_type": "code",
   "execution_count": 92,
   "metadata": {},
   "outputs": [
    {
     "name": "stdout",
     "output_type": "stream",
     "text": [
      "3\n"
     ]
    }
   ],
   "source": [
    "def add(a,b):\n",
    "    print(a+b)\n",
    "add(1,2)"
   ]
  },
  {
   "cell_type": "code",
   "execution_count": 95,
   "metadata": {},
   "outputs": [
    {
     "data": {
      "text/plain": [
       "3"
      ]
     },
     "execution_count": 95,
     "metadata": {},
     "output_type": "execute_result"
    }
   ],
   "source": [
    "def add(a,b):\n",
    "    return a+b\n",
    "\n",
    "c = add(1,2)\n",
    "c\n",
    "\n",
    "def add(a,b):\n",
    "    c = a+b\n",
    "    return c\n",
    "\n",
    "add(1,2)\n",
    "# c # 런타임 다시 시작 이후 실행 -> a,b,c 변수명은 함수 안에서만 쓰인 것!"
   ]
  },
  {
   "cell_type": "code",
   "execution_count": 96,
   "metadata": {},
   "outputs": [
    {
     "name": "stdout",
     "output_type": "stream",
     "text": [
      "3\n",
      "[5, 2]\n"
     ]
    }
   ],
   "source": [
    "def f(a):\n",
    "    a=5\n",
    "a=3\n",
    "f(a)\n",
    "print(a)\n",
    "\n",
    "# call by assignment\n",
    "def f(x):\n",
    "    x[0]=5 # 내부에서 리스트 자체에 접근하면 (mutable하면 속 값이 변해서 밖에서도 변해있음!)\n",
    "\n",
    "a=[1,2]\n",
    "f(a)\n",
    "print(a)"
   ]
  },
  {
   "cell_type": "code",
   "execution_count": 97,
   "metadata": {},
   "outputs": [
    {
     "name": "stdout",
     "output_type": "stream",
     "text": [
      "30 -10\n",
      "(30, -10)\n"
     ]
    }
   ],
   "source": [
    "def add_sub(a,b):\n",
    "    c=a+b\n",
    "    d=a-b\n",
    "    return c,d\n",
    "\n",
    "x,y = add_sub(10,20)\n",
    "print(x,y)\n",
    "\n",
    "x = add_sub(10,20) # 하나로 받으면? 튜플로 묶어서 준다.\n",
    "print(x)"
   ]
  },
  {
   "cell_type": "code",
   "execution_count": 98,
   "metadata": {},
   "outputs": [
    {
     "name": "stdout",
     "output_type": "stream",
     "text": [
      "30\n",
      "200\n"
     ]
    }
   ],
   "source": [
    "def add(a,b):\n",
    "    return a+b\n",
    "def mul(a,b):\n",
    "    return a*b\n",
    "def show_addmul(a,b): # a=10, b=20\n",
    "    print(add(a,b))\n",
    "    print(mul(a,b))\n",
    "\n",
    "show_addmul(10,20)"
   ]
  },
  {
   "cell_type": "code",
   "execution_count": 99,
   "metadata": {},
   "outputs": [
    {
     "name": "stdout",
     "output_type": "stream",
     "text": [
      "(10, 20)\n",
      "10 20\n",
      "30\n",
      "200\n"
     ]
    }
   ],
   "source": [
    "x=(10,20)\n",
    "print(x)\n",
    "print(*x) # 언패킹\n",
    "# show_addmul(x) # error!\n",
    "show_addmul(*x)"
   ]
  },
  {
   "cell_type": "code",
   "execution_count": 101,
   "metadata": {},
   "outputs": [
    {
     "name": "stdout",
     "output_type": "stream",
     "text": [
      "a 에는 (1, 2, 3, 4, 5) 가 들어가있다. 타입은 <class 'tuple'> 라고 한다\n"
     ]
    }
   ],
   "source": [
    "def my_func(*a): # 첨엔 a로 하셈 # *a로 받았기 때문에 a는 튜플로 패킹되어있다라는 걸 의미한다.\n",
    "    print(f\"a 에는 {a} 가 들어가있다. 타입은 {type(a)} 라고 한다\" )\n",
    "\n",
    "my_func(1) # my_func(1,2,3,4,5,6) 도 보여줘"
   ]
  },
  {
   "cell_type": "code",
   "execution_count": 102,
   "metadata": {},
   "outputs": [
    {
     "name": "stdout",
     "output_type": "stream",
     "text": [
      "args 에는 (1, 2, 3, 'qwer', 5) 가 들어가있다. 타입은 <class 'tuple'> 라고 한다\n",
      "1\n",
      "2\n",
      "3\n",
      "qwer\n",
      "5\n"
     ]
    }
   ],
   "source": [
    "# 보통은 args라고 함\n",
    "def my_func(*args):\n",
    "    print(f\"args 에는 {args} 가 들어가있다. 타입은 {type(args)} 라고 한다\" )\n",
    "    for i in args:\n",
    "        print(i)\n",
    "\n",
    "my_func(1,2,3,\"qwer\",5)"
   ]
  },
  {
   "cell_type": "code",
   "execution_count": 103,
   "metadata": {},
   "outputs": [
    {
     "name": "stdout",
     "output_type": "stream",
     "text": [
      "이름은 혁펜이고 나이는 100살이고 사는 데는 한국이다\n",
      "이름은 혁펜이고 나이는 한국살이고 사는 데는 100이다\n",
      "이름은 혁펜이고 나이는 100살이고 사는 데는 한국이다\n",
      "이름은 혁펜이고 나이는 100살이고 사는 데는 한국이다\n"
     ]
    }
   ],
   "source": [
    "def introduce(name, age, address):\n",
    "    print(f\"이름은 {name}이고 나이는 {age}살이고 사는 데는 {address}이다\")\n",
    "\n",
    "introduce(\"혁펜\",100,\"한국\")\n",
    "introduce(\"혁펜\",\"한국\",100)\n",
    "introduce(name=\"혁펜\", address=\"한국\",age=100)\n",
    "\n",
    "name = \"혁펜\"\n",
    "address = \"한국\"\n",
    "age = 100\n",
    "introduce(name=name, address=address, age=age)"
   ]
  },
  {
   "cell_type": "code",
   "execution_count": 104,
   "metadata": {},
   "outputs": [
    {
     "name": "stdout",
     "output_type": "stream",
     "text": [
      "이름은 혁펜이고 나이는 100살이고 사는데는 한국이다\n",
      "이름은 혁펜이고 나이는 100살이고 사는데는 비밀이다\n",
      "이름은 혁펜이고 나이는 비밀살이고 사는데는 비밀이다\n"
     ]
    }
   ],
   "source": [
    "def introduce1(name, age, address):\n",
    "    print(f\"이름은 {name}이고 나이는 {age}살이고 사는데는 {address}이다\")\n",
    "\n",
    "def introduce2(name, age=\"비밀\", address=\"비밀\"): # 디폴트 값이다!\n",
    "    print(f\"이름은 {name}이고 나이는 {age}살이고 사는데는 {address}이다\")\n",
    "\n",
    "introduce1(name=\"혁펜\", age=100, address=\"한국\")\n",
    "# introduce1(name=\"혁펜\", age=100) # error!\n",
    "introduce2(name=\"혁펜\", age=100) # 나머지는 디폴트로!\n",
    "introduce2(name=\"혁펜\") # 나머지는 디폴트로!\n",
    "# introduce2(age=100, address=\"한국\") # 이름은 꼭 써야함"
   ]
  },
  {
   "cell_type": "code",
   "execution_count": 105,
   "metadata": {},
   "outputs": [
    {
     "name": "stdout",
     "output_type": "stream",
     "text": [
      "이름은 비밀이고 나이는 비밀살이고 사는데는 비밀이다\n"
     ]
    }
   ],
   "source": [
    "# def introduce3(name=\"비밀\", age, address=\"비밀\"): # 디폴트 값을 정할 녀석들은 모두 뒤쪽으로\n",
    "#     print(f\"이름은 {name}이고 나이는 {age}살이고 사는데는 {address}이다\")\n",
    "\n",
    "def introduce4(name=\"비밀\", age=\"비밀\", address=\"비밀\"):\n",
    "    print(f\"이름은 {name}이고 나이는 {age}살이고 사는데는 {address}이다\")\n",
    "\n",
    "introduce4()"
   ]
  },
  {
   "cell_type": "code",
   "execution_count": 107,
   "metadata": {},
   "outputs": [
    {
     "name": "stdout",
     "output_type": "stream",
     "text": [
      "name address age\n",
      "이름은 name이고 나이는 address살이고 사는데는 age이다\n",
      "{'name': '혁펜', 'address': '한국', 'age': 100}\n",
      "이름은 혁펜이고 나이는 100살이고 사는데는 한국이다\n"
     ]
    }
   ],
   "source": [
    "d = {\"name\":\"혁펜\", \"address\":\"한국\", \"age\":100,}\n",
    "print(*d)\n",
    "introduce4(*d) # introduce4(\"name\",\"address\",\"age\") 와 동일\n",
    "print({**d}) \n",
    "introduce4(**d) # introduce4(name=\"혁펜\", address=\"한국\", age=100) 와 동일"
   ]
  },
  {
   "cell_type": "code",
   "execution_count": 108,
   "metadata": {},
   "outputs": [
    {
     "name": "stdout",
     "output_type": "stream",
     "text": [
      "kwargs 에는 {'name': '진권'} 가 들어가있다. 타입은 <class 'dict'> 라고 한다\n",
      "kwargs 에는 {'name': '진권', 'age': 24, 'address': '한국'} 가 들어가있다. 타입은 <class 'dict'> 라고 한다\n"
     ]
    }
   ],
   "source": [
    "def my_func(**kwargs): # kwargs: keyward arguments, 딕셔너리로 묶어 받는다\n",
    "    print(f\"kwargs 에는 {kwargs} 가 들어가있다. 타입은 {type(kwargs)} 라고 한다\")\n",
    "\n",
    "my_func(name=\"진권\")\n",
    "my_func(name=\"진권\",age=24,address=\"한국\") # 무조건 키벨류 형태로 줘야한다.\n",
    "# my_func(\"혁펜\", 100, \"한국\") # value만 줬기 땜에 dict를 못 만든다."
   ]
  },
  {
   "cell_type": "code",
   "execution_count": 110,
   "metadata": {},
   "outputs": [
    {
     "name": "stdout",
     "output_type": "stream",
     "text": [
      "이름은 jk 입니다\n",
      "나이는 22 입니다\n",
      "사는 곳은 korea 입니다\n",
      "이름은 jk 입니다\n"
     ]
    }
   ],
   "source": [
    "def my_intro(**kwargs):\n",
    "    if \"name\" in kwargs:\n",
    "        print(\"이름은\", kwargs[\"name\"], \"입니다\")\n",
    "    if \"age\" in kwargs:\n",
    "        print(\"나이는\", kwargs[\"age\"], \"입니다\")\n",
    "    if \"address\" in kwargs:\n",
    "        print(\"사는 곳은\", kwargs[\"address\"], \"입니다\")\n",
    "\n",
    "my_intro(name=\"jk\",age=22,address=\"korea\")\n",
    "my_intro(name=\"jk\") # 인자를 주지않으면 그냥 안뜸"
   ]
  },
  {
   "cell_type": "code",
   "execution_count": null,
   "metadata": {},
   "outputs": [],
   "source": [
    "def say():\n",
    "    print(\"하이\")\n",
    "    # say() 이러면 재귀\n",
    "say()"
   ]
  },
  {
   "cell_type": "code",
   "execution_count": 114,
   "metadata": {},
   "outputs": [
    {
     "name": "stdout",
     "output_type": "stream",
     "text": [
      "하이\n",
      "하이\n",
      "하이\n",
      "120\n"
     ]
    }
   ],
   "source": [
    "def say(count):\n",
    "    if count == 0:\n",
    "        return # return을 만나면 함수가 종료됨\n",
    "\n",
    "    print(\"하이\")\n",
    "    count -= 1\n",
    "    say(count)\n",
    "\n",
    "say(3)\n",
    "\n",
    "def factorial(n):\n",
    "    if n==1:\n",
    "        return 1\n",
    "    return n*factorial(n-1)\n",
    "\n",
    "print(factorial(5))"
   ]
  },
  {
   "cell_type": "markdown",
   "metadata": {},
   "source": [
    "# 로컬변수와 글로벌 변수"
   ]
  },
  {
   "cell_type": "code",
   "execution_count": 116,
   "metadata": {},
   "outputs": [
    {
     "name": "stdout",
     "output_type": "stream",
     "text": [
      "0 번째 Epoch이며 0번째 batch 입니다.\n",
      "0 번째 Epoch이며 1번째 batch 입니다.\n",
      "0 번째 Epoch이며 2번째 batch 입니다.\n",
      "0 번째 Epoch이며 3번째 batch 입니다.\n",
      "0 번째 Epoch이며 4번째 batch 입니다.\n",
      "1 번째 Epoch이며 0번째 batch 입니다.\n",
      "1 번째 Epoch이며 1번째 batch 입니다.\n",
      "1 번째 Epoch이며 2번째 batch 입니다.\n",
      "1 번째 Epoch이며 3번째 batch 입니다.\n",
      "1 번째 Epoch이며 4번째 batch 입니다.\n",
      "(10, 20)\n"
     ]
    }
   ],
   "source": [
    "EPOCH = 2\n",
    "BATCH = 5 #글로벌 변수\n",
    "\n",
    "def train(weight): # weight는 매개변수. 여기서 weight=0을 실행\n",
    "    x =1 # x는 로컬 변수\n",
    "    for i in range(EPOCH): # 글로벌은 안에서도 쓸 수 있다.\n",
    "        for j in range(BATCH):\n",
    "            print(f\"{i} 번째 Epoch이며 {j}번째 batch 입니다.\")\n",
    "            weight += 1\n",
    "    return weight\n",
    "\n",
    "train(0)\n",
    "# print(x)는 로컬변수라서 밖에서 보면 없는 존재"
   ]
  },
  {
   "cell_type": "code",
   "execution_count": 118,
   "metadata": {},
   "outputs": [
    {
     "name": "stdout",
     "output_type": "stream",
     "text": [
      "20\n",
      "20\n"
     ]
    }
   ],
   "source": [
    "def f():\n",
    "    global x # 함수 안에서 글로벌 변수를 만들 수 있다 (밖에서는 굳이 글로벌을 안붙여도 알아서 글로벌임)\n",
    "    x=20\n",
    "    print(x)\n",
    "\n",
    "f()\n",
    "print(x)"
   ]
  },
  {
   "cell_type": "code",
   "execution_count": 119,
   "metadata": {},
   "outputs": [
    {
     "name": "stdout",
     "output_type": "stream",
     "text": [
      "100\n",
      "10\n"
     ]
    }
   ],
   "source": [
    "x=10\n",
    "def f():\n",
    "    x=100\n",
    "    print(x)\n",
    "\n",
    "f() #로컬\n",
    "print(x)#글로벌"
   ]
  },
  {
   "cell_type": "code",
   "execution_count": 120,
   "metadata": {},
   "outputs": [
    {
     "name": "stdout",
     "output_type": "stream",
     "text": [
      "20\n",
      "20\n"
     ]
    }
   ],
   "source": [
    "x=10\n",
    "def f():\n",
    "    global x\n",
    "    x=20\n",
    "    print(x)\n",
    "\n",
    "f()\n",
    "print(x) # global이 변해버림"
   ]
  },
  {
   "cell_type": "markdown",
   "metadata": {},
   "source": [
    "# 람다 표현식\n"
   ]
  },
  {
   "cell_type": "code",
   "execution_count": 121,
   "metadata": {},
   "outputs": [
    {
     "data": {
      "text/plain": [
       "20"
      ]
     },
     "execution_count": 121,
     "metadata": {},
     "output_type": "execute_result"
    }
   ],
   "source": [
    "def plus_ten(x):\n",
    "    return x+10\n",
    "plus_ten(10)"
   ]
  },
  {
   "cell_type": "code",
   "execution_count": 123,
   "metadata": {},
   "outputs": [
    {
     "data": {
      "text/plain": [
       "20"
      ]
     },
     "execution_count": 123,
     "metadata": {},
     "output_type": "execute_result"
    }
   ],
   "source": [
    "plus_ten = lambda x: x+10 #입력이 x, 출력이 x+10\n",
    "plus_ten(10)"
   ]
  },
  {
   "cell_type": "code",
   "execution_count": 124,
   "metadata": {},
   "outputs": [
    {
     "data": {
      "text/plain": [
       "20"
      ]
     },
     "execution_count": 124,
     "metadata": {},
     "output_type": "execute_result"
    }
   ],
   "source": [
    "(lambda x: x+10)(10)"
   ]
  },
  {
   "cell_type": "code",
   "execution_count": 127,
   "metadata": {},
   "outputs": [
    {
     "name": "stdout",
     "output_type": "stream",
     "text": [
      "[11, 12, 13]\n",
      "[11, 12, 13]\n"
     ]
    }
   ],
   "source": [
    "def plus_ten(x):\n",
    "    return x+10\n",
    "print(list(map(plus_ten, [1,2,3]))) # map은 함수를 입력으로 받는 함수다. 함수, 넣을 것들(list)을 넣어주면 여러번 call해서 값을 얻는다.\n",
    "print(list(map(lambda x:x+10, [1,2,3])))"
   ]
  },
  {
   "cell_type": "code",
   "execution_count": 132,
   "metadata": {},
   "outputs": [
    {
     "data": {
      "text/plain": [
       "'1020'"
      ]
     },
     "execution_count": 132,
     "metadata": {},
     "output_type": "execute_result"
    }
   ],
   "source": [
    "f = lambda a,b: a+b\n",
    "f(\"10\",\"20\")"
   ]
  },
  {
   "cell_type": "code",
   "execution_count": 133,
   "metadata": {},
   "outputs": [
    {
     "data": {
      "text/plain": [
       "[3, 5, 7]"
      ]
     },
     "execution_count": 133,
     "metadata": {},
     "output_type": "execute_result"
    }
   ],
   "source": [
    "f = lambda a,b: a+b\n",
    "list(map(f,[1,2,3],[2,3,4]))"
   ]
  },
  {
   "cell_type": "code",
   "execution_count": 137,
   "metadata": {},
   "outputs": [
    {
     "name": "stdout",
     "output_type": "stream",
     "text": [
      "31\n"
     ]
    }
   ],
   "source": [
    "def add_1(a,b):\n",
    "    c = 1\n",
    "    return a+b+c\n",
    "print(add_1(10,20))\n",
    "\n",
    "#f = lambda a,b: c=1; a+b+c # def 안에서 변수 선언해서 쓸 수 있는데 lambda는 아님."
   ]
  },
  {
   "cell_type": "code",
   "execution_count": 139,
   "metadata": {},
   "outputs": [
    {
     "name": "stdout",
     "output_type": "stream",
     "text": [
      "[1, 4, 3, 8]\n",
      "[1, 4, 3, 8]\n"
     ]
    }
   ],
   "source": [
    "def func(x):\n",
    "    if x%2==0:\n",
    "        return 2*x\n",
    "    else:\n",
    "        return x\n",
    "print(list(map(func,[1,2,3,4])))\n",
    "\n",
    "f = lambda x:2*x if x%2==0 else x # 람다 표현식에서 if를 썼으면 반드시 else도 필요하다.\n",
    "print(list(map(f,[1,2,3,4])))"
   ]
  },
  {
   "cell_type": "code",
   "execution_count": 140,
   "metadata": {},
   "outputs": [
    {
     "name": "stdout",
     "output_type": "stream",
     "text": [
      "[2, 6, 3, 4]\n",
      "[2, 6, 3, 4]\n"
     ]
    }
   ],
   "source": [
    "def func(x):\n",
    "    if x==1:\n",
    "        return 2*x\n",
    "    elif x==2:\n",
    "        return 3*x\n",
    "    else:\n",
    "        return x\n",
    "print(list(map(func,[1,2,3,4])))\n",
    "f = lambda x:2*x if x==1 else 3*x if x==2 else x # elif는 안쓰고 else 이거 출력 if ~ 이런 식으로 표현해야 함\n",
    "print(list(map(f,[1,2,3,4])))"
   ]
  },
  {
   "cell_type": "markdown",
   "metadata": {},
   "source": [
    "# 클래스"
   ]
  },
  {
   "cell_type": "code",
   "execution_count": 1,
   "metadata": {},
   "outputs": [
    {
     "name": "stdout",
     "output_type": "stream",
     "text": [
      "Hello\n"
     ]
    }
   ],
   "source": [
    "# 로봇을 만든다고 해보자 -> 로봇의 키가 몇이고 몸무게가 몇이고, 안녕이라고 말하면서 인사를 하는 기능이 있고..\n",
    "# 클래스는 좀 큰 변수를 만든다고 봐야.. a=1 은 숫자 한 개 들어간 변수\n",
    "# a에 숫자 한 개도 넣고 리스트도 넣고 그것들을 가지고 뭔가 기능을 하는 함수를 만들어 넣고 그럴 순 없을까?\n",
    "# 객체(object) 지향(oriented) 프로그래밍(programming)\n",
    "class Robot:\n",
    "    def greeting(self): #메서드(method): 클래스 내부의 함수, 첫 번째 매개변수는 무조건 self(인스턴스 자기자신)\n",
    "        print(\"Hello\")\n",
    "    \n",
    "bot1 = Robot() # Robot이라는 클래스에 해당하는 instrance 만들기(실체화), 나중에는 ()에 여러가지 입력도 넣을 것임\n",
    "bot1.greeting() # \".\"은 이 클래스가 \"가지고 있는\" 정도의 의미"
   ]
  },
  {
   "cell_type": "code",
   "execution_count": 2,
   "metadata": {},
   "outputs": [
    {
     "name": "stdout",
     "output_type": "stream",
     "text": [
      "<class 'list'>\n",
      "<class '__main__.Robot'>\n"
     ]
    }
   ],
   "source": [
    "a=[1,2,3] # 인스턴스 생성\n",
    "a.append(4) # a 라는 이름의 인스턴스가 append라는 이름의 method 실행\n",
    "print(type(a)) # 정체는 사실 (list라는 이름의) 클래스다!\n",
    "print(type(bot1)) # 정체는 사실 (Robot이라는 이름의) 클래스다!"
   ]
  },
  {
   "cell_type": "code",
   "execution_count": 4,
   "metadata": {},
   "outputs": [
    {
     "name": "stdout",
     "output_type": "stream",
     "text": [
      "__init__으로 들어옴\n"
     ]
    }
   ],
   "source": [
    "class Robot:\n",
    "    def __init__(self): # initialize라서 init, 인스턴스 생성 즉시 이 함수로 들어옴\n",
    "    # 이 함수명은 약속된 이름이다 (special method라고 한다.)\n",
    "        print(\"__init__으로 들어옴\")\n",
    "\n",
    "bot1 = Robot() #인스턴스 만드는 동시에 __init__함수 실행"
   ]
  },
  {
   "cell_type": "code",
   "execution_count": 8,
   "metadata": {},
   "outputs": [
    {
     "name": "stdout",
     "output_type": "stream",
     "text": [
      "하이\n",
      "하이\n"
     ]
    }
   ],
   "source": [
    "class Robot:\n",
    "    def __init__(self):\n",
    "        self.sentence = \"하이\"\n",
    "        # self는 만들어진 인스턴스 자기자신 자체를 가리킴. self.무엇 은 self 내부의 것(변수,함수)을 가리킴\n",
    "        # 클래스 내부의 변수는 속성(attribute)이라고 한다.\n",
    "    def greeting(self):\n",
    "        # print(sentence) # error!\n",
    "        print(self.sentence) # 주머니에서 sentence를 꺼내 쓴다\n",
    "\n",
    "bot1 = Robot()\n",
    "bot1.greeting()"
   ]
  },
  {
   "cell_type": "code",
   "execution_count": 15,
   "metadata": {},
   "outputs": [
    {
     "name": "stdout",
     "output_type": "stream",
     "text": [
      "반갑습니다\n",
      "제 키는180cm에요\n",
      "180\n",
      "반갑습니다\n",
      "반갑습니다\n",
      "제 키는170cm에요\n",
      "하이\n",
      "제 키는160cm에요\n",
      "160\n",
      "하이\n"
     ]
    }
   ],
   "source": [
    "class Robot:\n",
    "    def __init__(self, sentence, height):  # 밖에서 넘어오는 매개변수는 무조건 self 뒤에\n",
    "        self.sentence = sentence\n",
    "        self.height = height # self.height는 밖에서 들어온 height랑은 다른 거임. 클래스 내부에서 써먹으려고 주머니에 넣은 것.\n",
    "    \n",
    "    def greeting(self):\n",
    "        print(self.sentence)\n",
    "        print(f\"제 키는{self.height}cm에요\")\n",
    "\n",
    "bot1 = Robot(\"반갑습니다\", 180)\n",
    "bot1.greeting()\n",
    "print(bot1.height) # self.height가 들어가 있다\n",
    "print(bot1.sentence) # self.sentence가 들어가 있다\n",
    "bot1.height -= 10\n",
    "bot1.greeting()\n",
    "\n",
    "bot2 = Robot(\"하이\", 160)\n",
    "bot2.greeting()\n",
    "print(bot2.height)\n",
    "print(bot2.sentence)\n"
   ]
  },
  {
   "cell_type": "code",
   "execution_count": 16,
   "metadata": {},
   "outputs": [
    {
     "name": "stdout",
     "output_type": "stream",
     "text": [
      "hi\n",
      "제 키는 170 이에요\n",
      "ㅋ\n"
     ]
    }
   ],
   "source": [
    "class Robot:\n",
    "    def __init__(self, sentence, height):\n",
    "        self.sentence = sentence\n",
    "        self.__height = height # 비공개로 만들고 싶은 속성은 앞에 밑줄 두 개\n",
    "\n",
    "    def greeting(self):\n",
    "        print(self.sentence)\n",
    "        self.__height -= 10 # 클래스 내부에서는 변형 가능\n",
    "        print(f\"제 키는 {self.__height} 이에요\")\n",
    "\n",
    "bot1 = Robot(\"hi\", 180)\n",
    "bot1.greeting()\n",
    "# print(bot1.__height)\n",
    "# bot1.__height -= 10 # error! self.__height 는 밖에서 접근이 안된다..!\n",
    "\n",
    "bot1.sentence = \"ㅋ\"\n",
    "print(bot1.sentence)"
   ]
  },
  {
   "cell_type": "code",
   "execution_count": 22,
   "metadata": {},
   "outputs": [
    {
     "name": "stdout",
     "output_type": "stream",
     "text": [
      "['iphone', 'iphone']\n",
      "['iphone 15pro']\n"
     ]
    }
   ],
   "source": [
    "# 클래스 속성 설명을 위한 것. 걍 넘어가자\n",
    "\n",
    "class Person:\n",
    "    def __init__(self) -> None:\n",
    "        self.bag = []\n",
    "    def put_bag(self, stuff):\n",
    "        self.bag += [stuff]\n",
    "\n",
    "jk = Person()\n",
    "jk.put_bag(\"iphone\")\n",
    "jk.put_bag(\"iphone\")\n",
    "\n",
    "\n",
    "yy = Person()\n",
    "yy.put_bag(\"iphone 15pro\")\n",
    "\n",
    "print(jk.bag)\n",
    "print(yy.bag)\n"
   ]
  },
  {
   "cell_type": "code",
   "execution_count": 23,
   "metadata": {},
   "outputs": [
    {
     "name": "stdout",
     "output_type": "stream",
     "text": [
      "['iphone', 'iphone', 'iphone 15pro']\n",
      "['iphone', 'iphone', 'iphone 15pro']\n"
     ]
    }
   ],
   "source": [
    "class Person:\n",
    "    bag=[]\n",
    "    def put_bag(self, stuff):\n",
    "        self.bag += [stuff]\n",
    "\n",
    "jk = Person()\n",
    "jk.put_bag(\"iphone\")\n",
    "jk.put_bag(\"iphone\")\n",
    "\n",
    "\n",
    "yy = Person()\n",
    "yy.put_bag(\"iphone 15pro\")\n",
    "\n",
    "print(jk.bag)\n",
    "print(yy.bag)"
   ]
  },
  {
   "cell_type": "code",
   "execution_count": 24,
   "metadata": {},
   "outputs": [
    {
     "name": "stdout",
     "output_type": "stream",
     "text": [
      "열공\n",
      "로봇입니다.\n"
     ]
    }
   ],
   "source": [
    "#상속 ==> 효율화\n",
    "class Robot: #부모 클래스\n",
    "    def greeting(self):\n",
    "        print(\"로봇입니다.\")\n",
    "\n",
    "class Study_bot(Robot): # 자식 클래스, Robot 클래스를 상속 받음 -> Robot이 가지는 함수 사용 가능.\n",
    "    def study(self):\n",
    "        print(\"열공\")\n",
    "\n",
    "bot = Study_bot()\n",
    "bot.study()\n",
    "bot.greeting()"
   ]
  },
  {
   "cell_type": "code",
   "execution_count": 27,
   "metadata": {},
   "outputs": [
    {
     "name": "stdout",
     "output_type": "stream",
     "text": [
      "로봇임\n",
      "공부하는 로봇입니다\n"
     ]
    }
   ],
   "source": [
    "# 메서드 오버라이딩 (overriding)\n",
    "class Robot:\n",
    "    def greeting(self):\n",
    "        print(\"로봇임\")\n",
    "    \n",
    "class Study_bot(Robot):\n",
    "    def greeting(self): # 부모의 greeting을 물려받았으나 여기서 다시 정의하면 덮어써버림\n",
    "        super().greeting() # super()가 부모 클래스를 가리킴, 부모의 것을 이렇게 사용한 것이 가능\n",
    "        print(\"공부하는 로봇입니다\")\n",
    "\n",
    "bot = Study_bot()\n",
    "bot.greeting()"
   ]
  },
  {
   "cell_type": "code",
   "execution_count": 26,
   "metadata": {},
   "outputs": [
    {
     "name": "stdout",
     "output_type": "stream",
     "text": [
      "부모 클래스의 func1 실행\n",
      "자식 클래스의 func2 실행\n",
      "10\n",
      "100\n"
     ]
    }
   ],
   "source": [
    "class Robot:\n",
    "    def func1(self):\n",
    "        print(\"부모 클래스의 func1 실행\")\n",
    "        self.money=100\n",
    "    \n",
    "class Study_bot(Robot):\n",
    "    def func2(self):\n",
    "        print(\"자식 클래스의 func2 실행\")\n",
    "        self.book=10\n",
    "\n",
    "bot1 = Study_bot()\n",
    "bot1.func1() # 부모의 함수가 먼저 실행돼야 자식에 상속된다\n",
    "bot1.func2()\n",
    "print(bot1.book)\n",
    "print(bot1.money)"
   ]
  },
  {
   "cell_type": "code",
   "execution_count": 28,
   "metadata": {},
   "outputs": [
    {
     "name": "stdout",
     "output_type": "stream",
     "text": [
      "부모 클래스의 init 실행\n",
      "자식 클래스의 init 실행\n",
      "10\n",
      "100\n"
     ]
    }
   ],
   "source": [
    "class Robot:\n",
    "    def __init__(self) -> None:\n",
    "        print(\"부모 클래스의 init 실행\")\n",
    "        self.money=100\n",
    "    \n",
    "class Study_bot(Robot):\n",
    "    def __init__(self) -> None:\n",
    "        super().__init__()\n",
    "        print(\"자식 클래스의 init 실행\")\n",
    "        self.book=10\n",
    "\n",
    "bot = Study_bot()\n",
    "print(bot.book)\n",
    "print(bot.money)"
   ]
  },
  {
   "cell_type": "code",
   "execution_count": 30,
   "metadata": {},
   "outputs": [
    {
     "name": "stdout",
     "output_type": "stream",
     "text": [
      "부모 클래스의 init 실행\n",
      "자식 클래스의 func2 실행\n",
      "10\n",
      "100\n"
     ]
    }
   ],
   "source": [
    "class Robot:\n",
    "    def __init__(self):\n",
    "        print(\"부모 클래스의 init 실행\")\n",
    "        self.money=100\n",
    "\n",
    "class Study_bot(Robot):\n",
    "    def func2(self): # 자식 클래스에 __init__이 없다면 부모 클래스의 __init__ 이 자동 호출\n",
    "        print(\"자식 클래스의 func2 실행\")\n",
    "        self.book = 10\n",
    "\n",
    "bot1 = Study_bot()\n",
    "bot1.func2()\n",
    "print(bot1.book)\n",
    "print(bot1.money)"
   ]
  },
  {
   "cell_type": "code",
   "execution_count": 31,
   "metadata": {},
   "outputs": [
    {
     "name": "stdout",
     "output_type": "stream",
     "text": [
      "로봇입니다\n",
      "냠냠\n",
      "열심열심!\n"
     ]
    }
   ],
   "source": [
    "class Robot:\n",
    "    def greeting(self):\n",
    "        print(\"로봇입니다\")\n",
    "\n",
    "class Life:\n",
    "    def eat(self):\n",
    "        print(\"냠냠\")\n",
    "\n",
    "class Study_bot(Robot, Life):\n",
    "    def study(self):\n",
    "        print(\"열심열심!\")\n",
    "\n",
    "bot1 = Study_bot()\n",
    "bot1.greeting()\n",
    "bot1.eat()\n",
    "bot1.study()"
   ]
  },
  {
   "cell_type": "code",
   "execution_count": 32,
   "metadata": {},
   "outputs": [
    {
     "name": "stdout",
     "output_type": "stream",
     "text": [
      "D 생성\n",
      "B\n"
     ]
    }
   ],
   "source": [
    "# 알쏭달쏭 다이아몬드 상속\n",
    "class A:\n",
    "    def greeting(self):\n",
    "        print(\"A\")\n",
    "\n",
    "class B(A):\n",
    "    def greeting(self):\n",
    "        print(\"B\")\n",
    "\n",
    "class C(A):\n",
    "    def greeting(self):\n",
    "        print(\"C\")\n",
    "\n",
    "class D(B,C): # 가장 왼쪽 것의 greeting을 사용하게 된다 (C,B도 해보셈)\n",
    "    def __init__(self):\n",
    "        print(\"D 생성\")\n",
    "\n",
    "x = D()\n",
    "x.greeting()"
   ]
  },
  {
   "cell_type": "markdown",
   "metadata": {},
   "source": [
    "## 이터레이터"
   ]
  },
  {
   "cell_type": "code",
   "execution_count": 33,
   "metadata": {},
   "outputs": [
    {
     "name": "stdout",
     "output_type": "stream",
     "text": [
      "1\n",
      "2\n",
      "3\n"
     ]
    }
   ],
   "source": [
    "a=[1,2,3] # a 는 list 클래스의 인스턴스다\n",
    "it=a.__iter__() # 인스턴스가 가진 메서드 중 __iter__ 함수를 사용한다 (dir(a)해보면 함수들 나옴)\n",
    "print(it.__next__()) # it 이라는 이름의 이터레이터가 가진 __next__ 함수를 사용한다\n",
    "print(it.__next__())\n",
    "print(it.__next__())\n",
    "# print(it.__next__()) # error!"
   ]
  },
  {
   "cell_type": "markdown",
   "metadata": {},
   "source": [
    "# Numpy\n"
   ]
  },
  {
   "cell_type": "code",
   "execution_count": 3,
   "metadata": {},
   "outputs": [
    {
     "name": "stdout",
     "output_type": "stream",
     "text": [
      "[1 2 3 4]\n",
      "int64\n",
      "(4,)\n",
      "float64\n"
     ]
    },
    {
     "data": {
      "text/plain": [
       "1.0"
      ]
     },
     "execution_count": 3,
     "metadata": {},
     "output_type": "execute_result"
    }
   ],
   "source": [
    "import numpy as np #numpy는 라이브러리 (패키지와 모듈들을 모아놓음)다 (numerical python)\n",
    "\n",
    "a = np.array([1,2,3,4]) # list가 입력으로 들어가는 함수\n",
    "print(a)\n",
    "type(a)\n",
    "print(a.dtype)\n",
    "print(a.shape)\n",
    "\n",
    "b = np.array([1,2,3.1,4])\n",
    "print(b.dtype) # 하나라도 실수면 자동으로 실수타입\n",
    "b[0]"
   ]
  },
  {
   "cell_type": "code",
   "execution_count": 4,
   "metadata": {},
   "outputs": [
    {
     "name": "stdout",
     "output_type": "stream",
     "text": [
      "[[1 2]\n",
      " [3 4]]\n"
     ]
    }
   ],
   "source": [
    "A = np.array([[1,2],[3,4]])\n",
    "print(A)"
   ]
  },
  {
   "cell_type": "code",
   "execution_count": null,
   "metadata": {},
   "outputs": [],
   "source": []
  }
 ],
 "metadata": {
  "kernelspec": {
   "display_name": "Python 3",
   "language": "python",
   "name": "python3"
  },
  "language_info": {
   "codemirror_mode": {
    "name": "ipython",
    "version": 3
   },
   "file_extension": ".py",
   "mimetype": "text/x-python",
   "name": "python",
   "nbconvert_exporter": "python",
   "pygments_lexer": "ipython3",
   "version": "3.9.7"
  }
 },
 "nbformat": 4,
 "nbformat_minor": 2
}
